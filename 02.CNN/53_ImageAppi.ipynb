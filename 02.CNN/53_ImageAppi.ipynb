{
 "cells": [
  {
   "cell_type": "markdown",
   "metadata": {},
   "source": [
    "# Keras Application 응용"
   ]
  },
  {
   "cell_type": "code",
   "execution_count": 1,
   "metadata": {},
   "outputs": [
    {
     "data": {
      "text/plain": [
       "['animals\\\\bear.jpg',\n",
       " 'animals\\\\cat.jpg',\n",
       " 'animals\\\\crocodile.jpg',\n",
       " 'animals\\\\dolphin.jpg',\n",
       " 'animals\\\\eagle.jpg',\n",
       " 'animals\\\\elephant.jpg',\n",
       " 'animals\\\\lion.jpg',\n",
       " 'animals\\\\penguin.jpg',\n",
       " 'animals\\\\shark.jpg',\n",
       " 'animals\\\\tree sparrow.jpg']"
      ]
     },
     "execution_count": 1,
     "metadata": {},
     "output_type": "execute_result"
    }
   ],
   "source": [
    "from glob import glob\r\n",
    "glob('animals/*')"
   ]
  },
  {
   "cell_type": "code",
   "execution_count": 2,
   "metadata": {},
   "outputs": [
    {
     "name": "stdout",
     "output_type": "stream",
     "text": [
      "['bear', 'cat', 'crocodile', 'dolphin', 'eagle', 'elephant', 'lion', 'penguin', 'shark', 'tree sparrow']\n"
     ]
    }
   ],
   "source": [
    "# 리스트 형태로\r\n",
    "name_list = []\r\n",
    "for file in glob('animals/*'):\r\n",
    "    name = file.split('\\\\')[1]\r\n",
    "    name = name.split('.')[0]\r\n",
    "    name_list.append(name)\r\n",
    "print(name_list)"
   ]
  },
  {
   "cell_type": "code",
   "execution_count": 3,
   "metadata": {},
   "outputs": [],
   "source": [
    "from tensorflow.keras.applications.vgg16 import VGG16, decode_predictions\r\n",
    "import numpy as np\r\n",
    "from PIL import Image"
   ]
  },
  {
   "cell_type": "markdown",
   "metadata": {},
   "source": [
    "## VGG16"
   ]
  },
  {
   "cell_type": "code",
   "execution_count": 4,
   "metadata": {},
   "outputs": [
    {
     "name": "stdout",
     "output_type": "stream",
     "text": [
      "['brown_bear', 'tabby', 'American_alligator', 'conch', 'bald_eagle', 'tusker', 'lion', 'king_penguin', 'tiger_shark', 'jay']\n"
     ]
    }
   ],
   "source": [
    "vgg16 = VGG16()\r\n",
    "vgg16_list = []\r\n",
    "for file in glob('animals/*'):\r\n",
    "    img = np.array(Image.open(file).resize((224,224)))\r\n",
    "    yhat = vgg16.predict(img.reshape(-1, 224, 224, 3))\r\n",
    "    label = decode_predictions(yhat)\r\n",
    "    vgg16_list.append(label[0][0][1])\r\n",
    "print(vgg16_list)"
   ]
  },
  {
   "cell_type": "markdown",
   "metadata": {},
   "source": [
    "## VGG19"
   ]
  },
  {
   "cell_type": "code",
   "execution_count": 5,
   "metadata": {},
   "outputs": [],
   "source": [
    "from tensorflow.keras.applications.vgg19 import VGG19, decode_predictions\r\n",
    "import cv2\r\n",
    "vgg19 = VGG19()"
   ]
  },
  {
   "cell_type": "code",
   "execution_count": 6,
   "metadata": {},
   "outputs": [
    {
     "name": "stdout",
     "output_type": "stream",
     "text": [
      "['ice_bear', 'tabby', 'ice_bear', 'killer_whale', 'black_grouse', 'African_elephant', 'ice_bear', 'king_penguin', 'great_white_shark', 'jay']\n"
     ]
    }
   ],
   "source": [
    "vgg19_list = []\r\n",
    "for file in glob('animals/*'):\r\n",
    "    img = cv2.imread(file)\r\n",
    "    img = cv2.resize(img, (224,224))\r\n",
    "    img = cv2.cvtColor(img, cv2.COLOR_BGR2RGB)\r\n",
    "\r\n",
    "    yhat = vgg19.predict(img.reshape(-1, 224, 224, 3))\r\n",
    "    label = decode_predictions(yhat)\r\n",
    "    vgg19_list.append(label[0][0][1])\r\n",
    "print(vgg19_list)"
   ]
  },
  {
   "cell_type": "markdown",
   "metadata": {},
   "source": [
    "## ResNet 50"
   ]
  },
  {
   "cell_type": "code",
   "execution_count": 7,
   "metadata": {},
   "outputs": [],
   "source": [
    "from tensorflow.keras.applications.resnet50 import ResNet50, decode_predictions\r\n",
    "resnet50 = ResNet50()"
   ]
  },
  {
   "cell_type": "code",
   "execution_count": 8,
   "metadata": {},
   "outputs": [
    {
     "name": "stdout",
     "output_type": "stream",
     "text": [
      "['brown_bear', 'Egyptian_cat', 'American_alligator', 'albatross', 'bald_eagle', 'Weimaraner', 'chimpanzee', 'king_penguin', 'sturgeon', 'jay']\n"
     ]
    }
   ],
   "source": [
    "resnet50_list = []\r\n",
    "resnet50_list = []\r\n",
    "for file in glob('animals/*'):\r\n",
    "    img = np.array(Image.open(file).resize((224,224)))\r\n",
    "    yhat = resnet50.predict(img.reshape(-1, 224, 224, 3))\r\n",
    "    label = decode_predictions(yhat)\r\n",
    "    resnet50_list.append(label[0][0][1])\r\n",
    "print(resnet50_list)"
   ]
  },
  {
   "cell_type": "markdown",
   "metadata": {},
   "source": [
    "## ResNet 101"
   ]
  },
  {
   "cell_type": "code",
   "execution_count": 9,
   "metadata": {},
   "outputs": [],
   "source": [
    "from tensorflow.keras.applications.resnet import ResNet101, decode_predictions\r\n",
    "resnet101 = ResNet101()"
   ]
  },
  {
   "cell_type": "code",
   "execution_count": 10,
   "metadata": {},
   "outputs": [
    {
     "name": "stdout",
     "output_type": "stream",
     "text": [
      "['brown_bear', 'Egyptian_cat', 'American_alligator', 'killer_whale', 'vulture', 'African_elephant', 'groenendael', 'king_penguin', 'tiger_shark', 'jay']\n"
     ]
    }
   ],
   "source": [
    "resnet101_list = []\r\n",
    "for file in glob('animals/*'):\r\n",
    "    img = np.array(Image.open(file).resize((224,224)))\r\n",
    "    yhat = resnet101.predict(img.reshape(-1, 224, 224, 3))\r\n",
    "    label = decode_predictions(yhat)\r\n",
    "    resnet101_list.append(label[0][0][1])\r\n",
    "print(resnet101_list)"
   ]
  },
  {
   "cell_type": "markdown",
   "metadata": {},
   "source": [
    "## 데이터프레임으로 합치기"
   ]
  },
  {
   "cell_type": "code",
   "execution_count": 11,
   "metadata": {},
   "outputs": [
    {
     "data": {
      "text/html": [
       "<div>\n",
       "<style scoped>\n",
       "    .dataframe tbody tr th:only-of-type {\n",
       "        vertical-align: middle;\n",
       "    }\n",
       "\n",
       "    .dataframe tbody tr th {\n",
       "        vertical-align: top;\n",
       "    }\n",
       "\n",
       "    .dataframe thead th {\n",
       "        text-align: right;\n",
       "    }\n",
       "</style>\n",
       "<table border=\"1\" class=\"dataframe\">\n",
       "  <thead>\n",
       "    <tr style=\"text-align: right;\">\n",
       "      <th></th>\n",
       "      <th>Original</th>\n",
       "      <th>VGG16</th>\n",
       "      <th>VGG19</th>\n",
       "      <th>ResNet50</th>\n",
       "      <th>ResNet101</th>\n",
       "    </tr>\n",
       "  </thead>\n",
       "  <tbody>\n",
       "    <tr>\n",
       "      <th>0</th>\n",
       "      <td>bear</td>\n",
       "      <td>brown_bear</td>\n",
       "      <td>ice_bear</td>\n",
       "      <td>brown_bear</td>\n",
       "      <td>brown_bear</td>\n",
       "    </tr>\n",
       "    <tr>\n",
       "      <th>1</th>\n",
       "      <td>cat</td>\n",
       "      <td>tabby</td>\n",
       "      <td>tabby</td>\n",
       "      <td>Egyptian_cat</td>\n",
       "      <td>Egyptian_cat</td>\n",
       "    </tr>\n",
       "    <tr>\n",
       "      <th>2</th>\n",
       "      <td>crocodile</td>\n",
       "      <td>American_alligator</td>\n",
       "      <td>ice_bear</td>\n",
       "      <td>American_alligator</td>\n",
       "      <td>American_alligator</td>\n",
       "    </tr>\n",
       "    <tr>\n",
       "      <th>3</th>\n",
       "      <td>dolphin</td>\n",
       "      <td>conch</td>\n",
       "      <td>killer_whale</td>\n",
       "      <td>albatross</td>\n",
       "      <td>killer_whale</td>\n",
       "    </tr>\n",
       "    <tr>\n",
       "      <th>4</th>\n",
       "      <td>eagle</td>\n",
       "      <td>bald_eagle</td>\n",
       "      <td>black_grouse</td>\n",
       "      <td>bald_eagle</td>\n",
       "      <td>vulture</td>\n",
       "    </tr>\n",
       "    <tr>\n",
       "      <th>5</th>\n",
       "      <td>elephant</td>\n",
       "      <td>tusker</td>\n",
       "      <td>African_elephant</td>\n",
       "      <td>Weimaraner</td>\n",
       "      <td>African_elephant</td>\n",
       "    </tr>\n",
       "    <tr>\n",
       "      <th>6</th>\n",
       "      <td>lion</td>\n",
       "      <td>lion</td>\n",
       "      <td>ice_bear</td>\n",
       "      <td>chimpanzee</td>\n",
       "      <td>groenendael</td>\n",
       "    </tr>\n",
       "    <tr>\n",
       "      <th>7</th>\n",
       "      <td>penguin</td>\n",
       "      <td>king_penguin</td>\n",
       "      <td>king_penguin</td>\n",
       "      <td>king_penguin</td>\n",
       "      <td>king_penguin</td>\n",
       "    </tr>\n",
       "    <tr>\n",
       "      <th>8</th>\n",
       "      <td>shark</td>\n",
       "      <td>tiger_shark</td>\n",
       "      <td>great_white_shark</td>\n",
       "      <td>sturgeon</td>\n",
       "      <td>tiger_shark</td>\n",
       "    </tr>\n",
       "    <tr>\n",
       "      <th>9</th>\n",
       "      <td>tree sparrow</td>\n",
       "      <td>jay</td>\n",
       "      <td>jay</td>\n",
       "      <td>jay</td>\n",
       "      <td>jay</td>\n",
       "    </tr>\n",
       "  </tbody>\n",
       "</table>\n",
       "</div>"
      ],
      "text/plain": [
       "       Original               VGG16              VGG19            ResNet50  \\\n",
       "0          bear          brown_bear           ice_bear          brown_bear   \n",
       "1           cat               tabby              tabby        Egyptian_cat   \n",
       "2     crocodile  American_alligator           ice_bear  American_alligator   \n",
       "3       dolphin               conch       killer_whale           albatross   \n",
       "4         eagle          bald_eagle       black_grouse          bald_eagle   \n",
       "5      elephant              tusker   African_elephant          Weimaraner   \n",
       "6          lion                lion           ice_bear          chimpanzee   \n",
       "7       penguin        king_penguin       king_penguin        king_penguin   \n",
       "8         shark         tiger_shark  great_white_shark            sturgeon   \n",
       "9  tree sparrow                 jay                jay                 jay   \n",
       "\n",
       "            ResNet101  \n",
       "0          brown_bear  \n",
       "1        Egyptian_cat  \n",
       "2  American_alligator  \n",
       "3        killer_whale  \n",
       "4             vulture  \n",
       "5    African_elephant  \n",
       "6         groenendael  \n",
       "7        king_penguin  \n",
       "8         tiger_shark  \n",
       "9                 jay  "
      ]
     },
     "execution_count": 11,
     "metadata": {},
     "output_type": "execute_result"
    }
   ],
   "source": [
    "import pandas as pd\r\n",
    "df = pd.DataFrame({\r\n",
    "    'Original':name_list, 'VGG16':vgg16_list, 'VGG19':vgg19_list,\r\n",
    "    'ResNet50':resnet50_list, 'ResNet101':resnet101_list\r\n",
    "})\r\n",
    "df"
   ]
  }
 ],
 "metadata": {
  "interpreter": {
   "hash": "8c1eae21719a0790335dcb83aad72b63b602cfe5cdb2bda0f60bc11d4f154e4b"
  },
  "kernelspec": {
   "display_name": "Python 3.8.5 64-bit ('base': conda)",
   "name": "python3"
  },
  "language_info": {
   "codemirror_mode": {
    "name": "ipython",
    "version": 3
   },
   "file_extension": ".py",
   "mimetype": "text/x-python",
   "name": "python",
   "nbconvert_exporter": "python",
   "pygments_lexer": "ipython3",
   "version": "3.8.5"
  },
  "orig_nbformat": 4
 },
 "nbformat": 4,
 "nbformat_minor": 2
}