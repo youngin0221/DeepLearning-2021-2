{
 "cells": [
  {
   "cell_type": "markdown",
   "metadata": {},
   "source": [
    "## 카카오 언어감지"
   ]
  },
  {
   "cell_type": "code",
   "execution_count": 1,
   "metadata": {},
   "outputs": [],
   "source": [
    "import requests\r\n",
    "from urllib.parse import quote"
   ]
  },
  {
   "cell_type": "code",
   "execution_count": 2,
   "metadata": {},
   "outputs": [],
   "source": [
    "with open('kakaoapikey.txt', mode='r') as key_file:\r\n",
    "    kakao_key = key_file.read()"
   ]
  },
  {
   "cell_type": "markdown",
   "metadata": {},
   "source": [
    "- 한국어"
   ]
  },
  {
   "cell_type": "code",
   "execution_count": 3,
   "metadata": {},
   "outputs": [],
   "source": [
    "kr_text = '감사합니다.'\r\n",
    "en_text ='Thank you'"
   ]
  },
  {
   "cell_type": "code",
   "execution_count": 4,
   "metadata": {},
   "outputs": [
    {
     "data": {
      "text/plain": [
       "'https://dapi.kakao.com/v3/translation/language/detect?query=%EA%B0%90%EC%82%AC%ED%95%A9%EB%8B%88%EB%8B%A4.'"
      ]
     },
     "execution_count": 4,
     "metadata": {},
     "output_type": "execute_result"
    }
   ],
   "source": [
    "sense_url = \"https://dapi.kakao.com/v3/translation/language/detect\"\r\n",
    "url = f'{sense_url}?query={quote(kr_text)}'\r\n",
    "url"
   ]
  },
  {
   "cell_type": "code",
   "execution_count": 5,
   "metadata": {},
   "outputs": [
    {
     "data": {
      "text/plain": [
       "{'language_info': [{'code': 'kr', 'name': 'Korean', 'confidence': 1.0}]}"
      ]
     },
     "execution_count": 5,
     "metadata": {},
     "output_type": "execute_result"
    }
   ],
   "source": [
    "result = requests.get(url, \r\n",
    "            headers={\"Authorization\": f\"KakaoAK {kakao_key}\"}).json()\r\n",
    "result"
   ]
  },
  {
   "cell_type": "code",
   "execution_count": 6,
   "metadata": {},
   "outputs": [
    {
     "data": {
      "text/plain": [
       "'kr'"
      ]
     },
     "execution_count": 6,
     "metadata": {},
     "output_type": "execute_result"
    }
   ],
   "source": [
    "result['language_info'][0]['code']"
   ]
  },
  {
   "cell_type": "code",
   "execution_count": 7,
   "metadata": {},
   "outputs": [
    {
     "data": {
      "text/plain": [
       "{'language_info': [{'code': 'en', 'name': 'English', 'confidence': 1.0}]}"
      ]
     },
     "execution_count": 7,
     "metadata": {},
     "output_type": "execute_result"
    }
   ],
   "source": [
    "url = f'{sense_url}?query={quote(en_text)}'\r\n",
    "result = requests.get(url, \r\n",
    "            headers={\"Authorization\": f\"KakaoAK {kakao_key}\"}).json()\r\n",
    "result           "
   ]
  },
  {
   "cell_type": "markdown",
   "metadata": {},
   "source": [
    "## 언어 감지후 한글로 번역"
   ]
  },
  {
   "cell_type": "code",
   "execution_count": 8,
   "metadata": {},
   "outputs": [],
   "source": [
    "fr_text = 'Merci beaucoup.'"
   ]
  },
  {
   "cell_type": "code",
   "execution_count": 9,
   "metadata": {},
   "outputs": [],
   "source": [
    "def get_country(text):\r\n",
    "    url = 'https://dapi.kakao.com/v3/translation/language/detect?query='+quote(text)\r\n",
    "    result = requests.get(url, \r\n",
    "                headers={\"Authorization\": f\"KakaoAK {kakao_key}\"}).json()\r\n",
    "    return result['language_info'][0]['code']"
   ]
  },
  {
   "cell_type": "code",
   "execution_count": 10,
   "metadata": {},
   "outputs": [],
   "source": [
    "def generate_url(text, src, dst):\r\n",
    "    trans_url = 'https://dapi.kakao.com/v2/translation/translate'\r\n",
    "    url = f'{trans_url}?src_lang={src}&target_lang={dst}&query={quote(text)}'\r\n",
    "    return url"
   ]
  },
  {
   "cell_type": "code",
   "execution_count": 11,
   "metadata": {},
   "outputs": [],
   "source": [
    "def for2kor(text):\r\n",
    "    country = get_country(text)\r\n",
    "    result = requests.get(generate_url(text, country, 'kr'), \r\n",
    "                headers={\"Authorization\": f\"KakaoAK {kakao_key}\"}).json()\r\n",
    "    tr_text = '\\n'.join([line[0] for line in result['translated_text']])\r\n",
    "    return tr_text"
   ]
  },
  {
   "cell_type": "code",
   "execution_count": 12,
   "metadata": {},
   "outputs": [
    {
     "data": {
      "text/plain": [
       "'감사합니다'"
      ]
     },
     "execution_count": 12,
     "metadata": {},
     "output_type": "execute_result"
    }
   ],
   "source": [
    "for2kor(en_text)"
   ]
  },
  {
   "cell_type": "code",
   "execution_count": 13,
   "metadata": {},
   "outputs": [
    {
     "data": {
      "text/plain": [
       "'정말 감사합니다.'"
      ]
     },
     "execution_count": 13,
     "metadata": {},
     "output_type": "execute_result"
    }
   ],
   "source": [
    "for2kor(fr_text)"
   ]
  }
 ],
 "metadata": {
  "interpreter": {
   "hash": "8c1eae21719a0790335dcb83aad72b63b602cfe5cdb2bda0f60bc11d4f154e4b"
  },
  "kernelspec": {
   "display_name": "Python 3.8.5 64-bit ('base': conda)",
   "name": "python3"
  },
  "language_info": {
   "codemirror_mode": {
    "name": "ipython",
    "version": 3
   },
   "file_extension": ".py",
   "mimetype": "text/x-python",
   "name": "python",
   "nbconvert_exporter": "python",
   "pygments_lexer": "ipython3",
   "version": "3.8.5"
  },
  "orig_nbformat": 4
 },
 "nbformat": 4,
 "nbformat_minor": 2
}