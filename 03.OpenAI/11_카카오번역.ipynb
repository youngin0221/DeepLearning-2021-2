{
 "cells": [
  {
   "cell_type": "markdown",
   "metadata": {},
   "source": [
    "# 카카오 번역기"
   ]
  },
  {
   "cell_type": "code",
   "execution_count": 1,
   "metadata": {},
   "outputs": [],
   "source": [
    "import requests\r\n",
    "from urllib.parse import quote"
   ]
  },
  {
   "cell_type": "code",
   "execution_count": 2,
   "metadata": {},
   "outputs": [],
   "source": [
    "with open('kakaoapikey.txt', mode='r') as key_file:\r\n",
    "    kakao_key = key_file.read()"
   ]
  },
  {
   "cell_type": "markdown",
   "metadata": {},
   "source": [
    "## 한글 -> 영어"
   ]
  },
  {
   "cell_type": "code",
   "execution_count": 3,
   "metadata": {},
   "outputs": [],
   "source": [
    "text = '번역요청한 문장을 다양한 언어로 번역하는 API로써 입력된 텍스트를 기반으로 번역 텍스트 결과를 전달합니다.'"
   ]
  },
  {
   "cell_type": "code",
   "execution_count": 4,
   "metadata": {},
   "outputs": [
    {
     "data": {
      "text/plain": [
       "'https://dapi.kakao.com/v2/translation/translate?src_lang=kr&target_lang=en&query=%EB%B2%88%EC%97%AD%EC%9A%94%EC%B2%AD%ED%95%9C%20%EB%AC%B8%EC%9E%A5%EC%9D%84%20%EB%8B%A4%EC%96%91%ED%95%9C%20%EC%96%B8%EC%96%B4%EB%A1%9C%20%EB%B2%88%EC%97%AD%ED%95%98%EB%8A%94%20API%EB%A1%9C%EC%8D%A8%20%EC%9E%85%EB%A0%A5%EB%90%9C%20%ED%85%8D%EC%8A%A4%ED%8A%B8%EB%A5%BC%20%EA%B8%B0%EB%B0%98%EC%9C%BC%EB%A1%9C%20%EB%B2%88%EC%97%AD%20%ED%85%8D%EC%8A%A4%ED%8A%B8%20%EA%B2%B0%EA%B3%BC%EB%A5%BC%20%EC%A0%84%EB%8B%AC%ED%95%A9%EB%8B%88%EB%8B%A4.'"
      ]
     },
     "execution_count": 4,
     "metadata": {},
     "output_type": "execute_result"
    }
   ],
   "source": [
    "trans_url = 'https://dapi.kakao.com/v2/translation/translate'\r\n",
    "url = f'{trans_url}?src_lang=kr&target_lang=en&query={quote(text)}'\r\n",
    "url"
   ]
  },
  {
   "cell_type": "code",
   "execution_count": 5,
   "metadata": {},
   "outputs": [
    {
     "data": {
      "text/plain": [
       "{'translated_text': [['Translational text results based on text entered as an API that translates the sentence requested for translation into various languages.']]}"
      ]
     },
     "execution_count": 5,
     "metadata": {},
     "output_type": "execute_result"
    }
   ],
   "source": [
    "# \"Authorization: KakaoAK {REST_API_KEY}\"\r\n",
    "result = requests.get(url, \r\n",
    "            headers={\"Authorization\": f\"KakaoAK {kakao_key}\"}).json()\r\n",
    "result"
   ]
  },
  {
   "cell_type": "code",
   "execution_count": 6,
   "metadata": {},
   "outputs": [
    {
     "name": "stdout",
     "output_type": "stream",
     "text": [
      "번역요청한 문장을 다양한 언어로 번역하는 API로써 입력된 텍스트를 기반으로 번역 텍스트 결과를 전달합니다.\n",
      "Translational text results based on text entered as an API that translates the sentence requested for translation into various languages.\n"
     ]
    }
   ],
   "source": [
    "eng_text = result['translated_text'][0][0]\r\n",
    "print(text)\r\n",
    "print(eng_text)"
   ]
  },
  {
   "cell_type": "markdown",
   "metadata": {},
   "source": [
    "## URL을 만드는 함수"
   ]
  },
  {
   "cell_type": "code",
   "execution_count": 7,
   "metadata": {},
   "outputs": [],
   "source": [
    "def generate_url(text, src, dst):\r\n",
    "    trans_url = 'https://dapi.kakao.com/v2/translation/translate'\r\n",
    "    url = f'{trans_url}?src_lang={src}&target_lang={dst}&query={quote(text)}'\r\n",
    "    return url "
   ]
  },
  {
   "cell_type": "markdown",
   "metadata": {},
   "source": [
    "## 영어 -> 한글"
   ]
  },
  {
   "cell_type": "code",
   "execution_count": 8,
   "metadata": {},
   "outputs": [
    {
     "data": {
      "text/plain": [
       "{'translated_text': [['번역 요청된 문장을 다양한 언어로 번역하는 API로 입력된 텍스트를 기반으로한 번역 텍스트 결과.']]}"
      ]
     },
     "execution_count": 8,
     "metadata": {},
     "output_type": "execute_result"
    }
   ],
   "source": [
    "result = requests.get(generate_url(eng_text, 'en', 'kr'), \r\n",
    "            headers={\"Authorization\": f\"KakaoAK {kakao_key}\"}).json()\r\n",
    "result"
   ]
  },
  {
   "cell_type": "code",
   "execution_count": 9,
   "metadata": {},
   "outputs": [
    {
     "name": "stdout",
     "output_type": "stream",
     "text": [
      "번역요청한 문장을 다양한 언어로 번역하는 API로써 입력된 텍스트를 기반으로 번역 텍스트 결과를 전달합니다.\n",
      "번역 요청된 문장을 다양한 언어로 번역하는 API로 입력된 텍스트를 기반으로한 번역 텍스트 결과.\n"
     ]
    }
   ],
   "source": [
    "kor_text = result['translated_text'][0][0]\r\n",
    "print(text)\r\n",
    "print(kor_text)"
   ]
  },
  {
   "cell_type": "markdown",
   "metadata": {},
   "source": [
    "## 한글 여러문장 -> 영어, 프랑스어"
   ]
  },
  {
   "cell_type": "code",
   "execution_count": 10,
   "metadata": {},
   "outputs": [],
   "source": [
    "multi_text = \"\"\"\r\n",
    "난 사람의 관상만 보았지, 시대를 보진 못했소.\r\n",
    "헌데, 관상가 양반! 생각해보니 영 이상하구만.\r\n",
    "나는 이미 왕이 되었는데 나보고 왕이 될 상이라니... \r\n",
    "이거 순 엉터리 아닌가.\r\n",
    "어찌 내가 왕이 될 상인가?\r\n",
    "\"\"\""
   ]
  },
  {
   "cell_type": "code",
   "execution_count": 11,
   "metadata": {},
   "outputs": [
    {
     "data": {
      "text/plain": [
       "{'translated_text': [['I only saw the human view, not the times.'],\n",
       "  [\"But, you're a contemporary man! I think it's weird.\"],\n",
       "  [\"I've already become king, and I'm going to be king.\"],\n",
       "  ['This is a mess.'],\n",
       "  ['How could I be king?']]}"
      ]
     },
     "execution_count": 11,
     "metadata": {},
     "output_type": "execute_result"
    }
   ],
   "source": [
    "result = requests.get(generate_url(multi_text, 'kr', 'en'), \r\n",
    "            headers={\"Authorization\": f\"KakaoAK {kakao_key}\"}).json()\r\n",
    "result"
   ]
  },
  {
   "cell_type": "code",
   "execution_count": 12,
   "metadata": {},
   "outputs": [
    {
     "name": "stdout",
     "output_type": "stream",
     "text": [
      "I only saw the human view, not the times.\n",
      "But, you're a contemporary man! I think it's weird.\n",
      "I've already become king, and I'm going to be king.\n",
      "This is a mess.\n",
      "How could I be king?\n"
     ]
    }
   ],
   "source": [
    "for line in result['translated_text']:\r\n",
    "    print(line[0])"
   ]
  },
  {
   "cell_type": "code",
   "execution_count": 13,
   "metadata": {},
   "outputs": [
    {
     "name": "stdout",
     "output_type": "stream",
     "text": [
      "I only saw the human view, not the times.\n",
      "But, you're a contemporary man! I think it's weird.\n",
      "I've already become king, and I'm going to be king.\n",
      "This is a mess.\n",
      "How could I be king?\n"
     ]
    }
   ],
   "source": [
    "tr_text = '\\n'.join([line[0] for line in result['translated_text']])\r\n",
    "print(tr_text)"
   ]
  },
  {
   "cell_type": "code",
   "execution_count": 14,
   "metadata": {},
   "outputs": [
    {
     "name": "stdout",
     "output_type": "stream",
     "text": [
      "Je n'ai vu que les gens, pas les temps.\n",
      "Mais, mon cher, mon cher, c'est bizarre.\n",
      "Je suis déjà devenu roi, et je suis le prix du roi.\n",
      "C'est un vrai problème.\n",
      "Comment suis-je un marchand qui sera roi?\n"
     ]
    }
   ],
   "source": [
    "result = requests.get(generate_url(multi_text, 'kr', 'fr'), \r\n",
    "            headers={\"Authorization\": f\"KakaoAK {kakao_key}\"}).json()\r\n",
    "tr_text = '\\n'.join([line[0] for line in result['translated_text']])\r\n",
    "print(tr_text)"
   ]
  }
 ],
 "metadata": {
  "interpreter": {
   "hash": "8c1eae21719a0790335dcb83aad72b63b602cfe5cdb2bda0f60bc11d4f154e4b"
  },
  "kernelspec": {
   "display_name": "Python 3.8.5 64-bit ('base': conda)",
   "name": "python3"
  },
  "language_info": {
   "codemirror_mode": {
    "name": "ipython",
    "version": 3
   },
   "file_extension": ".py",
   "mimetype": "text/x-python",
   "name": "python",
   "nbconvert_exporter": "python",
   "pygments_lexer": "ipython3",
   "version": "3.8.5"
  },
  "orig_nbformat": 4
 },
 "nbformat": 4,
 "nbformat_minor": 2
}