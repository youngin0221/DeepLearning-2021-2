{
 "cells": [
  {
   "cell_type": "markdown",
   "metadata": {},
   "source": [
    "# RNN을 이용한 텍스트 생성\r\n",
    "- '경마장에 있는 말이 뛰고 있다'\r\n",
    "- '그의 말이 법이다'\r\n",
    "- '가는 말이 고와야 오는 말이 곱다'"
   ]
  },
  {
   "cell_type": "code",
   "execution_count": 1,
   "metadata": {},
   "outputs": [],
   "source": [
    "import numpy as np\r\n",
    "import tensorflow as tf\r\n",
    "seed = 2021\r\n",
    "np.random.seed(seed)\r\n",
    "tf.random.set_seed(seed)"
   ]
  },
  {
   "cell_type": "code",
   "execution_count": 2,
   "metadata": {},
   "outputs": [],
   "source": [
    "text = '''경마장에 있는 말이 뛰고 있다\\n\r\n",
    "그의 말이 법이다\\n\r\n",
    "가는 말이 고와야 오는 말이 곱다\\n\r\n",
    "'''"
   ]
  },
  {
   "cell_type": "markdown",
   "metadata": {},
   "source": [
    "## 텍스트 전처리"
   ]
  },
  {
   "cell_type": "code",
   "execution_count": 3,
   "metadata": {},
   "outputs": [],
   "source": [
    "from tensorflow.keras.preprocessing.text import Tokenizer\r\n",
    "from tensorflow.keras.preprocessing.sequence import pad_sequences\r\n",
    "from tensorflow.keras.utils import to_categorical"
   ]
  },
  {
   "cell_type": "code",
   "execution_count": 4,
   "metadata": {},
   "outputs": [],
   "source": [
    "# 단어 집합 생성\r\n",
    "t = Tokenizer()\r\n",
    "t.fit_on_texts([text])"
   ]
  },
  {
   "cell_type": "code",
   "execution_count": 5,
   "metadata": {},
   "outputs": [
    {
     "data": {
      "text/plain": [
       "{'말이': 1,\n",
       " '경마장에': 2,\n",
       " '있는': 3,\n",
       " '뛰고': 4,\n",
       " '있다': 5,\n",
       " '그의': 6,\n",
       " '법이다': 7,\n",
       " '가는': 8,\n",
       " '고와야': 9,\n",
       " '오는': 10,\n",
       " '곱다': 11}"
      ]
     },
     "execution_count": 5,
     "metadata": {},
     "output_type": "execute_result"
    }
   ],
   "source": [
    "t.word_index"
   ]
  },
  {
   "cell_type": "code",
   "execution_count": 6,
   "metadata": {},
   "outputs": [
    {
     "data": {
      "text/plain": [
       "12"
      ]
     },
     "execution_count": 6,
     "metadata": {},
     "output_type": "execute_result"
    }
   ],
   "source": [
    "# 단어 집합 크기 - keras Tokenizer의 시작 인덱스가 1이기 때문\r\n",
    "vocab_size = len(t.word_index) + 1\r\n",
    "vocab_size"
   ]
  },
  {
   "cell_type": "code",
   "execution_count": 7,
   "metadata": {},
   "outputs": [
    {
     "data": {
      "text/plain": [
       "[[6, 1, 7]]"
      ]
     },
     "execution_count": 7,
     "metadata": {},
     "output_type": "execute_result"
    }
   ],
   "source": [
    "t.texts_to_sequences(['그의 말이 법이다'])"
   ]
  },
  {
   "cell_type": "code",
   "execution_count": 8,
   "metadata": {},
   "outputs": [
    {
     "data": {
      "text/plain": [
       "[[2, 3],\n",
       " [2, 3, 1],\n",
       " [2, 3, 1, 4],\n",
       " [2, 3, 1, 4, 5],\n",
       " [6, 1],\n",
       " [6, 1, 7],\n",
       " [8, 1],\n",
       " [8, 1, 9],\n",
       " [8, 1, 9, 10],\n",
       " [8, 1, 9, 10, 1],\n",
       " [8, 1, 9, 10, 1, 11]]"
      ]
     },
     "execution_count": 8,
     "metadata": {},
     "output_type": "execute_result"
    }
   ],
   "source": [
    "# 학습에 사용될 샘플 시퀀스\r\n",
    "sequences = []\r\n",
    "for line in text.split('\\n'):\r\n",
    "    encoded = t.texts_to_sequences([line])[0]\r\n",
    "    for i in range(1, len(encoded)):\r\n",
    "        sequence = encoded[:i+1]\r\n",
    "        sequences.append(sequence)\r\n",
    "sequences"
   ]
  },
  {
   "cell_type": "code",
   "execution_count": 9,
   "metadata": {},
   "outputs": [
    {
     "data": {
      "text/plain": [
       "6"
      ]
     },
     "execution_count": 9,
     "metadata": {},
     "output_type": "execute_result"
    }
   ],
   "source": [
    "max_len = max(len(s) for s in sequences)\r\n",
    "max_len"
   ]
  },
  {
   "cell_type": "markdown",
   "metadata": {},
   "source": [
    "### Padding\r\n",
    "- 전체 샘플의 길이를 가장 긴 샘플의 길이(6)로 패딩\r\n",
    "- 'pre' 옵션을 주면 앞을 0으로 채움"
   ]
  },
  {
   "cell_type": "code",
   "execution_count": 10,
   "metadata": {},
   "outputs": [
    {
     "data": {
      "text/plain": [
       "array([[0, 0, 0, 0, 2, 3],\n",
       "       [0, 0, 0, 2, 3, 1],\n",
       "       [0, 0, 2, 3, 1, 4],\n",
       "       [0, 2, 3, 1, 4, 5],\n",
       "       [0, 0, 0, 0, 6, 1]])"
      ]
     },
     "execution_count": 10,
     "metadata": {},
     "output_type": "execute_result"
    }
   ],
   "source": [
    "sequences = pad_sequences(sequences, maxlen=max_len, padding='pre')\r\n",
    "sequences[:5]"
   ]
  },
  {
   "cell_type": "code",
   "execution_count": 11,
   "metadata": {},
   "outputs": [],
   "source": [
    "X = sequences[:, :-1]\r\n",
    "y = sequences[:,-1]"
   ]
  },
  {
   "cell_type": "code",
   "execution_count": 12,
   "metadata": {},
   "outputs": [
    {
     "data": {
      "text/plain": [
       "array([[0., 0., 0., 1., 0., 0., 0., 0., 0., 0., 0., 0.],\n",
       "       [0., 1., 0., 0., 0., 0., 0., 0., 0., 0., 0., 0.],\n",
       "       [0., 0., 0., 0., 1., 0., 0., 0., 0., 0., 0., 0.]], dtype=float32)"
      ]
     },
     "execution_count": 12,
     "metadata": {},
     "output_type": "execute_result"
    }
   ],
   "source": [
    "Y = to_categorical(y)   # to_categorical(y, vocab_size)\r\n",
    "Y[:3]"
   ]
  },
  {
   "cell_type": "markdown",
   "metadata": {},
   "source": [
    "## 모델 정의\r\n",
    "- Embedding\r\n",
    "- SimpleRNN"
   ]
  },
  {
   "cell_type": "code",
   "execution_count": 13,
   "metadata": {},
   "outputs": [],
   "source": [
    "from tensorflow.keras.models import Sequential\r\n",
    "from tensorflow.keras.layers import Embedding,SimpleRNN, Dense"
   ]
  },
  {
   "cell_type": "code",
   "execution_count": 14,
   "metadata": {},
   "outputs": [
    {
     "name": "stdout",
     "output_type": "stream",
     "text": [
      "Model: \"sequential\"\n",
      "_________________________________________________________________\n",
      "Layer (type)                 Output Shape              Param #   \n",
      "=================================================================\n",
      "embedding (Embedding)        (None, 5, 4)              48        \n",
      "_________________________________________________________________\n",
      "simple_rnn (SimpleRNN)       (None, 32)                1184      \n",
      "_________________________________________________________________\n",
      "dense (Dense)                (None, 12)                396       \n",
      "=================================================================\n",
      "Total params: 1,628\n",
      "Trainable params: 1,628\n",
      "Non-trainable params: 0\n",
      "_________________________________________________________________\n"
     ]
    }
   ],
   "source": [
    "# Embedding=4, SimpleRNN=32\r\n",
    "model = Sequential([\r\n",
    "    Embedding(vocab_size, 4, input_length=max_len-1),\r\n",
    "    SimpleRNN(32),\r\n",
    "    Dense(vocab_size,activation='softmax')\r\n",
    "])\r\n",
    "model.summary()"
   ]
  },
  {
   "cell_type": "markdown",
   "metadata": {},
   "source": [
    "## 모델 설정/학습"
   ]
  },
  {
   "cell_type": "code",
   "execution_count": 15,
   "metadata": {},
   "outputs": [],
   "source": [
    "model.compile(\r\n",
    "    optimizer='adam', loss='categorical_crossentropy', metrics=['accuracy']\r\n",
    ")"
   ]
  },
  {
   "cell_type": "code",
   "execution_count": 16,
   "metadata": {},
   "outputs": [
    {
     "data": {
      "text/plain": [
       "0.9090909361839294"
      ]
     },
     "execution_count": 16,
     "metadata": {},
     "output_type": "execute_result"
    }
   ],
   "source": [
    "history = model.fit(X, Y, epochs=200, verbose=0)\r\n",
    "history.history['accuracy'][-1]"
   ]
  },
  {
   "cell_type": "markdown",
   "metadata": {},
   "source": [
    "## 모델 검증"
   ]
  },
  {
   "cell_type": "code",
   "execution_count": 17,
   "metadata": {},
   "outputs": [],
   "source": [
    "from my_util import sentence_generation"
   ]
  },
  {
   "cell_type": "code",
   "execution_count": 18,
   "metadata": {},
   "outputs": [
    {
     "data": {
      "text/plain": [
       "'경마장에 말이 말이 뛰고'"
      ]
     },
     "execution_count": 18,
     "metadata": {},
     "output_type": "execute_result"
    }
   ],
   "source": [
    "# 모델, 토크나이저, 현재 단어, 반복할 횟수\r\n",
    "sentence_generation(model, t, max_len, '경마장에', 3)"
   ]
  },
  {
   "cell_type": "code",
   "execution_count": 19,
   "metadata": {},
   "outputs": [
    {
     "data": {
      "text/plain": [
       "'그의 말이 법이다'"
      ]
     },
     "execution_count": 19,
     "metadata": {},
     "output_type": "execute_result"
    }
   ],
   "source": [
    "sentence_generation(model, t, max_len, '그의', 2)"
   ]
  },
  {
   "cell_type": "code",
   "execution_count": 20,
   "metadata": {},
   "outputs": [
    {
     "data": {
      "text/plain": [
       "'가는 말이 고와야 오는 말이 곱다'"
      ]
     },
     "execution_count": 20,
     "metadata": {},
     "output_type": "execute_result"
    }
   ],
   "source": [
    "sentence_generation(model, t, max_len, '가는', 5)"
   ]
  },
  {
   "cell_type": "markdown",
   "metadata": {},
   "source": [
    "## 모델 변화\r\n",
    "- Embedding vector 갯수 : 2, 4, 6\r\n",
    "- RNN 노드 갯수 : 24, 32, 48"
   ]
  },
  {
   "cell_type": "code",
   "execution_count": 21,
   "metadata": {},
   "outputs": [],
   "source": [
    "def execute_model(n_embed, n_rnn):\r\n",
    "    model = Sequential([\r\n",
    "        Embedding(vocab_size, n_embed, input_length=max_len-1),\r\n",
    "        SimpleRNN(n_rnn),\r\n",
    "        Dense(vocab_size,activation='softmax')\r\n",
    "    ])\r\n",
    "    model.compile(\r\n",
    "        optimizer='adam', loss='categorical_crossentropy', metrics=['accuracy']\r\n",
    "    )\r\n",
    "    history = model.fit(X, Y, epochs=200, verbose=0)\r\n",
    "    print(f\"정확도 : history.history['accuracy'][-1]:.4f\")\r\n",
    "    print(sentence_generation(model, t, max_len, '경마장에', 3))\r\n",
    "    print(sentence_generation(model, t, max_len, '그의', 2))\r\n",
    "    print(sentence_generation(model, t, max_len, '가는', 5))"
   ]
  },
  {
   "cell_type": "code",
   "execution_count": 22,
   "metadata": {},
   "outputs": [
    {
     "name": "stdout",
     "output_type": "stream",
     "text": [
      "======================================\n",
      "n_embed=2, n_rnn=24\n",
      "정확도 : history.history['accuracy'][-1]:.4f\n",
      "경마장에 말이 말이 뛰고\n",
      "그의 말이 법이다\n",
      "가는 말이 고와야 오는 말이 곱다\n",
      "\n",
      "======================================\n",
      "n_embed=2, n_rnn=36\n",
      "정확도 : history.history['accuracy'][-1]:.4f\n",
      "경마장에 말이 고와야 오는\n",
      "그의 말이 법이다\n",
      "가는 말이 고와야 오는 말이 곱다\n",
      "\n",
      "======================================\n",
      "n_embed=2, n_rnn=48\n",
      "정확도 : history.history['accuracy'][-1]:.4f\n",
      "경마장에 있는 말이 뛰고\n",
      "그의 말이 법이다\n",
      "가는 말이 고와야 오는 말이 곱다\n",
      "\n",
      "======================================\n",
      "n_embed=4, n_rnn=24\n",
      "정확도 : history.history['accuracy'][-1]:.4f\n",
      "경마장에 말이 말이 뛰고\n",
      "그의 말이 법이다\n",
      "가는 말이 고와야 오는 말이 곱다\n",
      "\n",
      "======================================\n",
      "n_embed=4, n_rnn=36\n",
      "정확도 : history.history['accuracy'][-1]:.4f\n",
      "경마장에 있는 말이 뛰고\n",
      "그의 말이 법이다\n",
      "가는 말이 고와야 오는 말이 곱다\n",
      "\n",
      "======================================\n",
      "n_embed=4, n_rnn=48\n",
      "정확도 : history.history['accuracy'][-1]:.4f\n",
      "경마장에 있는 말이 뛰고\n",
      "그의 말이 법이다\n",
      "가는 말이 고와야 오는 말이 곱다\n",
      "\n",
      "======================================\n",
      "n_embed=6, n_rnn=24\n",
      "정확도 : history.history['accuracy'][-1]:.4f\n",
      "경마장에 있는 말이 뛰고\n",
      "그의 말이 법이다\n",
      "가는 말이 고와야 오는 말이 곱다\n",
      "\n",
      "======================================\n",
      "n_embed=6, n_rnn=36\n",
      "정확도 : history.history['accuracy'][-1]:.4f\n",
      "경마장에 있는 말이 뛰고\n",
      "그의 말이 법이다\n",
      "가는 말이 고와야 오는 말이 곱다\n",
      "\n",
      "======================================\n",
      "n_embed=6, n_rnn=48\n",
      "정확도 : history.history['accuracy'][-1]:.4f\n",
      "경마장에 있는 말이 뛰고\n",
      "그의 말이 법이다\n",
      "가는 말이 고와야 오는 말이 곱다\n",
      "\n"
     ]
    }
   ],
   "source": [
    "for n_embed in [2, 4, 6]:\r\n",
    "    for n_rnn in [24, 36, 48]:\r\n",
    "        print('======================================')\r\n",
    "        print(f'n_embed={n_embed}, n_rnn={n_rnn}')\r\n",
    "        execute_model(n_embed, n_rnn)\r\n",
    "        print()"
   ]
  }
 ],
 "metadata": {
  "interpreter": {
   "hash": "8c1eae21719a0790335dcb83aad72b63b602cfe5cdb2bda0f60bc11d4f154e4b"
  },
  "kernelspec": {
   "display_name": "Python 3.8.5 64-bit ('base': conda)",
   "name": "python3"
  },
  "language_info": {
   "codemirror_mode": {
    "name": "ipython",
    "version": 3
   },
   "file_extension": ".py",
   "mimetype": "text/x-python",
   "name": "python",
   "nbconvert_exporter": "python",
   "pygments_lexer": "ipython3",
   "version": "3.8.5"
  },
  "orig_nbformat": 4
 },
 "nbformat": 4,
 "nbformat_minor": 2
}