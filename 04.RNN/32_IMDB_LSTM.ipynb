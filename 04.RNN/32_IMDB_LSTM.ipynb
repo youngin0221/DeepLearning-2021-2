{
  "nbformat": 4,
  "nbformat_minor": 0,
  "metadata": {
    "colab": {
      "name": "32_IMDB_LSTM.ipynb",
      "provenance": [],
      "collapsed_sections": []
    },
    "kernelspec": {
      "name": "python3",
      "display_name": "Python 3"
    },
    "language_info": {
      "name": "python"
    },
    "accelerator": "GPU"
  },
  "cells": [
    {
      "cell_type": "markdown",
      "metadata": {
        "id": "p1r68WFHHBEY"
      },
      "source": [
        "# IMDB 영화 리뷰 감성 분석"
      ]
    },
    {
      "cell_type": "code",
      "metadata": {
        "id": "tyvvOYtzHGif"
      },
      "source": [
        "import numpy as np \n",
        "import tensorflow as tf\n",
        "seed = 2021\n",
        "np.random.seed(seed)\n",
        "tf.random.set_seed(seed)"
      ],
      "execution_count": 1,
      "outputs": []
    },
    {
      "cell_type": "code",
      "metadata": {
        "id": "E4RTsfq6HUt3"
      },
      "source": [
        "import matplotlib.pyplot as plt\n",
        "import seaborn as sns\n",
        "import warnings\n",
        "%matplotlib inline\n",
        "warnings.filterwarnings('ignore')"
      ],
      "execution_count": 2,
      "outputs": []
    },
    {
      "cell_type": "code",
      "metadata": {
        "colab": {
          "base_uri": "https://localhost:8080/"
        },
        "id": "HNKYX5C-Hb4W",
        "outputId": "291f317e-fe59-4a1a-b040-49811c6617cc"
      },
      "source": [
        "from tensorflow.keras.datasets import imdb\n",
        "(X_train, y_train), (X_test, y_test) = imdb.load_data(num_words=None)\n",
        "X_train.shape, X_test.shape"
      ],
      "execution_count": 3,
      "outputs": [
        {
          "output_type": "stream",
          "text": [
            "Downloading data from https://storage.googleapis.com/tensorflow/tf-keras-datasets/imdb.npz\n",
            "17465344/17464789 [==============================] - 0s 0us/step\n"
          ],
          "name": "stdout"
        },
        {
          "output_type": "execute_result",
          "data": {
            "text/plain": [
              "((25000,), (25000,))"
            ]
          },
          "metadata": {
            "tags": []
          },
          "execution_count": 3
        }
      ]
    },
    {
      "cell_type": "code",
      "metadata": {
        "colab": {
          "base_uri": "https://localhost:8080/"
        },
        "id": "dtwPJcn2HesI",
        "outputId": "e0d0d815-1177-4a1e-d61e-321a7010891e"
      },
      "source": [
        "index_dict = {}\n",
        "for key, value in imdb.get_word_index().items():\n",
        "    index_dict[value] = key\n",
        "len(index_dict)"
      ],
      "execution_count": 4,
      "outputs": [
        {
          "output_type": "stream",
          "text": [
            "Downloading data from https://storage.googleapis.com/tensorflow/tf-keras-datasets/imdb_word_index.json\n",
            "1646592/1641221 [==============================] - 0s 0us/step\n"
          ],
          "name": "stdout"
        },
        {
          "output_type": "execute_result",
          "data": {
            "text/plain": [
              "88584"
            ]
          },
          "metadata": {
            "tags": []
          },
          "execution_count": 4
        }
      ]
    },
    {
      "cell_type": "code",
      "metadata": {
        "colab": {
          "base_uri": "https://localhost:8080/"
        },
        "id": "sMgbHfkEHkYG",
        "outputId": "438617ad-8d74-48b4-8f27-6e84c8630398"
      },
      "source": [
        "print('영화평 최대 길이:', max(len(l) for l in X_train))\n",
        "print('영화평 평균 길이:', sum(map(len, X_train))/len(X_train))"
      ],
      "execution_count": 5,
      "outputs": [
        {
          "output_type": "stream",
          "text": [
            "영화평 최대 길이: 2494\n",
            "영화평 평균 길이: 238.71364\n"
          ],
          "name": "stdout"
        }
      ]
    },
    {
      "cell_type": "markdown",
      "metadata": {
        "id": "W-RD5qxGHtLm"
      },
      "source": [
        "### LSTM으로 IMDB 리뷰 감성 분류\n",
        "- 단어 빈도수: 5,000 (총 단어수: 88,584)\n",
        "- 문장의 단어수: 500단어 (최대: 2,494)\n",
        "- Test data중 10000개는 검증 데이터로"
      ]
    },
    {
      "cell_type": "code",
      "metadata": {
        "id": "4fGCgs5PHnvv"
      },
      "source": [
        "from tensorflow.keras.models import Sequential, load_model\n",
        "from tensorflow.keras.layers import Embedding, LSTM, Dense\n",
        "from tensorflow.keras.callbacks import ModelCheckpoint, EarlyStopping\n",
        "from tensorflow.keras.preprocessing.sequence import pad_sequences"
      ],
      "execution_count": 6,
      "outputs": []
    },
    {
      "cell_type": "code",
      "metadata": {
        "id": "vWW09IpkH1Xv"
      },
      "source": [
        "# 단어 빈도수: 5,000\n",
        "(X_train, y_train), (X_test, y_test) = imdb.load_data(num_words=5000)"
      ],
      "execution_count": 7,
      "outputs": []
    },
    {
      "cell_type": "code",
      "metadata": {
        "id": "llpe7UKSH37n"
      },
      "source": [
        "# 문장의 단어수: 500단어\n",
        "max_len = 500\n",
        "X_train = pad_sequences(X_train, maxlen=max_len)\n",
        "X_test = pad_sequences(X_test, maxlen=max_len)"
      ],
      "execution_count": 8,
      "outputs": []
    },
    {
      "cell_type": "code",
      "metadata": {
        "colab": {
          "base_uri": "https://localhost:8080/"
        },
        "id": "efwEGDLmH63_",
        "outputId": "5b2c1e12-e440-402b-db9c-b0b3d4974947"
      },
      "source": [
        "# Test data중 10000개는 검증 데이터로\n",
        "from sklearn.model_selection import train_test_split\n",
        "X_test, X_val, y_test, y_val = train_test_split(\n",
        "    X_test, y_test, stratify=y_test, test_size=0.4, random_state=seed\n",
        ")\n",
        "X_test.shape, X_val.shape, y_test.shape, y_val.shape"
      ],
      "execution_count": 9,
      "outputs": [
        {
          "output_type": "execute_result",
          "data": {
            "text/plain": [
              "((15000, 500), (10000, 500), (15000,), (10000,))"
            ]
          },
          "metadata": {
            "tags": []
          },
          "execution_count": 9
        }
      ]
    },
    {
      "cell_type": "markdown",
      "metadata": {
        "id": "psaeQ55ZICuP"
      },
      "source": [
        "### 모델 정의/설정/학습/평가"
      ]
    },
    {
      "cell_type": "code",
      "metadata": {
        "colab": {
          "base_uri": "https://localhost:8080/"
        },
        "id": "kKDMLXJ4H9uH",
        "outputId": "4c14cb64-f164-4bf8-b7c0-ca6c4c54c8e4"
      },
      "source": [
        "model = Sequential([ \n",
        "    Embedding(5000, 120),\n",
        "    LSTM(120),\n",
        "    Dense(1, activation='sigmoid')\n",
        "])\n",
        "model.summary()"
      ],
      "execution_count": 10,
      "outputs": [
        {
          "output_type": "stream",
          "text": [
            "Model: \"sequential\"\n",
            "_________________________________________________________________\n",
            "Layer (type)                 Output Shape              Param #   \n",
            "=================================================================\n",
            "embedding (Embedding)        (None, None, 120)         600000    \n",
            "_________________________________________________________________\n",
            "lstm (LSTM)                  (None, 120)               115680    \n",
            "_________________________________________________________________\n",
            "dense (Dense)                (None, 1)                 121       \n",
            "=================================================================\n",
            "Total params: 715,801\n",
            "Trainable params: 715,801\n",
            "Non-trainable params: 0\n",
            "_________________________________________________________________\n"
          ],
          "name": "stdout"
        }
      ]
    },
    {
      "cell_type": "code",
      "metadata": {
        "id": "QUQ3s37CIL5n"
      },
      "source": [
        "model.compile(\n",
        "    optimizer='adam', loss='binary_crossentropy', metrics=['accuracy']\n",
        ")"
      ],
      "execution_count": 11,
      "outputs": []
    },
    {
      "cell_type": "code",
      "metadata": {
        "id": "Kv8kvVn4IQd-"
      },
      "source": [
        "# Callback 함수\n",
        "import os\n",
        "if not os.path.exists('model'):\n",
        "    os.mkdir('model')\n",
        "model_file = 'model/best_imdb_lstm.h5'\n",
        "mc = ModelCheckpoint(model_file, save_best_only=True, verbose=1)\n",
        "es = EarlyStopping(patience=5)"
      ],
      "execution_count": 12,
      "outputs": []
    },
    {
      "cell_type": "code",
      "metadata": {
        "colab": {
          "base_uri": "https://localhost:8080/"
        },
        "id": "XixoB28KIk96",
        "outputId": "597e4b46-e434-4e3e-b3f7-899f4a4f4dba"
      },
      "source": [
        "history = model.fit(\n",
        "    X_train, y_train, batch_size=100, epochs=50,\n",
        "    validation_data=(X_val, y_val), verbose=0, callbacks=[mc, es]\n",
        ")"
      ],
      "execution_count": 13,
      "outputs": [
        {
          "output_type": "stream",
          "text": [
            "\n",
            "Epoch 00001: val_loss improved from inf to 0.31794, saving model to model/best_imdb_lstm.h5\n",
            "\n",
            "Epoch 00002: val_loss improved from 0.31794 to 0.31515, saving model to model/best_imdb_lstm.h5\n",
            "\n",
            "Epoch 00003: val_loss did not improve from 0.31515\n",
            "\n",
            "Epoch 00004: val_loss did not improve from 0.31515\n",
            "\n",
            "Epoch 00005: val_loss did not improve from 0.31515\n",
            "\n",
            "Epoch 00006: val_loss did not improve from 0.31515\n",
            "\n",
            "Epoch 00007: val_loss did not improve from 0.31515\n"
          ],
          "name": "stdout"
        }
      ]
    },
    {
      "cell_type": "code",
      "metadata": {
        "colab": {
          "base_uri": "https://localhost:8080/"
        },
        "id": "93tvjK8KIpB_",
        "outputId": "7caa0935-6362-49db-dadb-18265771f828"
      },
      "source": [
        "best_model = load_model(model_file)\n",
        "best_model.evaluate(X_test, y_test)"
      ],
      "execution_count": 14,
      "outputs": [
        {
          "output_type": "stream",
          "text": [
            "469/469 [==============================] - 6s 11ms/step - loss: 0.3153 - accuracy: 0.8687\n"
          ],
          "name": "stdout"
        },
        {
          "output_type": "execute_result",
          "data": {
            "text/plain": [
              "[0.31531721353530884, 0.8687333464622498]"
            ]
          },
          "metadata": {
            "tags": []
          },
          "execution_count": 14
        }
      ]
    },
    {
      "cell_type": "code",
      "metadata": {
        "id": "XDNxeeyIJEvf"
      },
      "source": [
        ""
      ],
      "execution_count": null,
      "outputs": []
    }
  ]
}