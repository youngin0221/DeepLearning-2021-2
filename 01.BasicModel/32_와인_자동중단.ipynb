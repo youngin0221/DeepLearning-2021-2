{
 "cells": [
  {
   "cell_type": "markdown",
   "metadata": {},
   "source": [
    "# 와인 베스트 모델 찾은 후 자동 중단"
   ]
  },
  {
   "cell_type": "code",
   "execution_count": 1,
   "metadata": {},
   "outputs": [],
   "source": [
    "import numpy as np \n",
    "import pandas as pd \n",
    "import tensorflow as tf\n",
    "seed = 2021\n",
    "np.random.seed(seed)\n",
    "tf.random.set_seed(seed)"
   ]
  },
  {
   "cell_type": "code",
   "execution_count": 2,
   "metadata": {},
   "outputs": [
    {
     "data": {
      "text/html": [
       "<div>\n",
       "<style scoped>\n",
       "    .dataframe tbody tr th:only-of-type {\n",
       "        vertical-align: middle;\n",
       "    }\n",
       "\n",
       "    .dataframe tbody tr th {\n",
       "        vertical-align: top;\n",
       "    }\n",
       "\n",
       "    .dataframe thead th {\n",
       "        text-align: right;\n",
       "    }\n",
       "</style>\n",
       "<table border=\"1\" class=\"dataframe\">\n",
       "  <thead>\n",
       "    <tr style=\"text-align: right;\">\n",
       "      <th></th>\n",
       "      <th>0</th>\n",
       "      <th>1</th>\n",
       "      <th>2</th>\n",
       "      <th>3</th>\n",
       "      <th>4</th>\n",
       "      <th>5</th>\n",
       "      <th>6</th>\n",
       "      <th>7</th>\n",
       "      <th>8</th>\n",
       "      <th>9</th>\n",
       "      <th>10</th>\n",
       "      <th>11</th>\n",
       "      <th>12</th>\n",
       "    </tr>\n",
       "  </thead>\n",
       "  <tbody>\n",
       "    <tr>\n",
       "      <th>0</th>\n",
       "      <td>7.4</td>\n",
       "      <td>0.70</td>\n",
       "      <td>0.00</td>\n",
       "      <td>1.9</td>\n",
       "      <td>0.076</td>\n",
       "      <td>11.0</td>\n",
       "      <td>34.0</td>\n",
       "      <td>0.9978</td>\n",
       "      <td>3.51</td>\n",
       "      <td>0.56</td>\n",
       "      <td>9.4</td>\n",
       "      <td>5</td>\n",
       "      <td>1</td>\n",
       "    </tr>\n",
       "    <tr>\n",
       "      <th>1</th>\n",
       "      <td>7.8</td>\n",
       "      <td>0.88</td>\n",
       "      <td>0.00</td>\n",
       "      <td>2.6</td>\n",
       "      <td>0.098</td>\n",
       "      <td>25.0</td>\n",
       "      <td>67.0</td>\n",
       "      <td>0.9968</td>\n",
       "      <td>3.20</td>\n",
       "      <td>0.68</td>\n",
       "      <td>9.8</td>\n",
       "      <td>5</td>\n",
       "      <td>1</td>\n",
       "    </tr>\n",
       "    <tr>\n",
       "      <th>2</th>\n",
       "      <td>7.8</td>\n",
       "      <td>0.76</td>\n",
       "      <td>0.04</td>\n",
       "      <td>2.3</td>\n",
       "      <td>0.092</td>\n",
       "      <td>15.0</td>\n",
       "      <td>54.0</td>\n",
       "      <td>0.9970</td>\n",
       "      <td>3.26</td>\n",
       "      <td>0.65</td>\n",
       "      <td>9.8</td>\n",
       "      <td>5</td>\n",
       "      <td>1</td>\n",
       "    </tr>\n",
       "  </tbody>\n",
       "</table>\n",
       "</div>"
      ],
      "text/plain": [
       "    0     1     2    3      4     5     6       7     8     9    10  11  12\n",
       "0  7.4  0.70  0.00  1.9  0.076  11.0  34.0  0.9978  3.51  0.56  9.4   5   1\n",
       "1  7.8  0.88  0.00  2.6  0.098  25.0  67.0  0.9968  3.20  0.68  9.8   5   1\n",
       "2  7.8  0.76  0.04  2.3  0.092  15.0  54.0  0.9970  3.26  0.65  9.8   5   1"
      ]
     },
     "execution_count": 2,
     "metadata": {},
     "output_type": "execute_result"
    }
   ],
   "source": [
    "wine = pd.read_csv('dataset/wine.csv', header=None)\n",
    "wine.head(3)"
   ]
  },
  {
   "cell_type": "code",
   "execution_count": 3,
   "metadata": {},
   "outputs": [],
   "source": [
    "from sklearn.preprocessing import MinMaxScaler\n",
    "scaler = MinMaxScaler()\n",
    "X_scaled = scaler.fit_transform(wine.iloc[:,:-1].values)"
   ]
  },
  {
   "cell_type": "code",
   "execution_count": 4,
   "metadata": {},
   "outputs": [
    {
     "data": {
      "text/plain": [
       "((4872, 12), (1625, 12), (4872,), (1625,))"
      ]
     },
     "execution_count": 4,
     "metadata": {},
     "output_type": "execute_result"
    }
   ],
   "source": [
    "from sklearn.model_selection import train_test_split\n",
    "X_train, X_test, y_train, y_test = train_test_split(\n",
    "    X_scaled, wine.iloc[:,-1].values, \n",
    "    stratify=wine.iloc[:,-1].values, random_state=seed\n",
    ")\n",
    "X_train.shape, X_test.shape, y_train.shape, y_test.shape"
   ]
  },
  {
   "cell_type": "markdown",
   "metadata": {},
   "source": [
    "### 모델 정의/설정"
   ]
  },
  {
   "cell_type": "code",
   "execution_count": 5,
   "metadata": {},
   "outputs": [],
   "source": [
    "from tensorflow.keras.models import Sequential\n",
    "from tensorflow.keras.layers import Dense"
   ]
  },
  {
   "cell_type": "code",
   "execution_count": 6,
   "metadata": {},
   "outputs": [
    {
     "name": "stdout",
     "output_type": "stream",
     "text": [
      "Model: \"sequential\"\n",
      "_________________________________________________________________\n",
      "Layer (type)                 Output Shape              Param #   \n",
      "=================================================================\n",
      "dense (Dense)                (None, 30)                390       \n",
      "_________________________________________________________________\n",
      "dense_1 (Dense)              (None, 12)                372       \n",
      "_________________________________________________________________\n",
      "dense_2 (Dense)              (None, 8)                 104       \n",
      "_________________________________________________________________\n",
      "dense_3 (Dense)              (None, 1)                 9         \n",
      "=================================================================\n",
      "Total params: 875\n",
      "Trainable params: 875\n",
      "Non-trainable params: 0\n",
      "_________________________________________________________________\n"
     ]
    }
   ],
   "source": [
    "model = Sequential([\n",
    "    Dense(30, input_dim=12, activation='relu'),\n",
    "    Dense(12, activation='relu'),\n",
    "    Dense(8, activation='relu'),\n",
    "    Dense(1, activation='sigmoid')\n",
    "])\n",
    "model.summary()"
   ]
  },
  {
   "cell_type": "code",
   "execution_count": 7,
   "metadata": {},
   "outputs": [],
   "source": [
    "model.compile(\n",
    "    optimizer='adam', loss='binary_crossentropy', metrics=['accuracy']\n",
    ")"
   ]
  },
  {
   "cell_type": "markdown",
   "metadata": {},
   "source": [
    "### 모델 저장관련 설정"
   ]
  },
  {
   "cell_type": "code",
   "execution_count": 8,
   "metadata": {},
   "outputs": [],
   "source": [
    "modelpath = 'model/best_wine.h5'"
   ]
  },
  {
   "cell_type": "code",
   "execution_count": 9,
   "metadata": {},
   "outputs": [],
   "source": [
    "from tensorflow.keras.callbacks import ModelCheckpoint\n",
    "checkpointer = ModelCheckpoint(\n",
    "    modelpath, monitor='val_loss', verbose=1, save_best_only=True\n",
    ")"
   ]
  },
  {
   "cell_type": "code",
   "execution_count": 10,
   "metadata": {},
   "outputs": [],
   "source": [
    "from tensorflow.keras.callbacks import EarlyStopping\n",
    "early_stopping = EarlyStopping(patience=20)"
   ]
  },
  {
   "cell_type": "markdown",
   "metadata": {},
   "source": [
    "### 모델 학습 및 저장"
   ]
  },
  {
   "cell_type": "code",
   "execution_count": 11,
   "metadata": {},
   "outputs": [
    {
     "name": "stdout",
     "output_type": "stream",
     "text": [
      "\n",
      "Epoch 00001: val_loss improved from inf to 0.63452, saving model to model\\best_wine.h5\n",
      "\n",
      "Epoch 00002: val_loss improved from 0.63452 to 0.57737, saving model to model\\best_wine.h5\n",
      "\n",
      "Epoch 00003: val_loss improved from 0.57737 to 0.51327, saving model to model\\best_wine.h5\n",
      "\n",
      "Epoch 00004: val_loss improved from 0.51327 to 0.45118, saving model to model\\best_wine.h5\n",
      "\n",
      "Epoch 00005: val_loss improved from 0.45118 to 0.38812, saving model to model\\best_wine.h5\n",
      "\n",
      "Epoch 00006: val_loss improved from 0.38812 to 0.32422, saving model to model\\best_wine.h5\n",
      "\n",
      "Epoch 00007: val_loss improved from 0.32422 to 0.26086, saving model to model\\best_wine.h5\n",
      "\n",
      "Epoch 00008: val_loss improved from 0.26086 to 0.20673, saving model to model\\best_wine.h5\n",
      "\n",
      "Epoch 00009: val_loss improved from 0.20673 to 0.15826, saving model to model\\best_wine.h5\n",
      "\n",
      "Epoch 00010: val_loss improved from 0.15826 to 0.12070, saving model to model\\best_wine.h5\n",
      "\n",
      "Epoch 00011: val_loss improved from 0.12070 to 0.09141, saving model to model\\best_wine.h5\n",
      "\n",
      "Epoch 00012: val_loss improved from 0.09141 to 0.07345, saving model to model\\best_wine.h5\n",
      "\n",
      "Epoch 00013: val_loss improved from 0.07345 to 0.06349, saving model to model\\best_wine.h5\n",
      "\n",
      "Epoch 00014: val_loss improved from 0.06349 to 0.05796, saving model to model\\best_wine.h5\n",
      "\n",
      "Epoch 00015: val_loss improved from 0.05796 to 0.05307, saving model to model\\best_wine.h5\n",
      "\n",
      "Epoch 00016: val_loss improved from 0.05307 to 0.05035, saving model to model\\best_wine.h5\n",
      "\n",
      "Epoch 00017: val_loss improved from 0.05035 to 0.04710, saving model to model\\best_wine.h5\n",
      "\n",
      "Epoch 00018: val_loss improved from 0.04710 to 0.04535, saving model to model\\best_wine.h5\n",
      "\n",
      "Epoch 00019: val_loss improved from 0.04535 to 0.04446, saving model to model\\best_wine.h5\n",
      "\n",
      "Epoch 00020: val_loss improved from 0.04446 to 0.04275, saving model to model\\best_wine.h5\n",
      "\n",
      "Epoch 00021: val_loss improved from 0.04275 to 0.04160, saving model to model\\best_wine.h5\n",
      "\n",
      "Epoch 00022: val_loss improved from 0.04160 to 0.04086, saving model to model\\best_wine.h5\n",
      "\n",
      "Epoch 00023: val_loss improved from 0.04086 to 0.03952, saving model to model\\best_wine.h5\n",
      "\n",
      "Epoch 00024: val_loss improved from 0.03952 to 0.03903, saving model to model\\best_wine.h5\n",
      "\n",
      "Epoch 00025: val_loss improved from 0.03903 to 0.03889, saving model to model\\best_wine.h5\n",
      "\n",
      "Epoch 00026: val_loss improved from 0.03889 to 0.03798, saving model to model\\best_wine.h5\n",
      "\n",
      "Epoch 00027: val_loss improved from 0.03798 to 0.03782, saving model to model\\best_wine.h5\n",
      "\n",
      "Epoch 00028: val_loss improved from 0.03782 to 0.03726, saving model to model\\best_wine.h5\n",
      "\n",
      "Epoch 00029: val_loss improved from 0.03726 to 0.03620, saving model to model\\best_wine.h5\n",
      "\n",
      "Epoch 00030: val_loss improved from 0.03620 to 0.03603, saving model to model\\best_wine.h5\n",
      "\n",
      "Epoch 00031: val_loss did not improve from 0.03603\n",
      "\n",
      "Epoch 00032: val_loss improved from 0.03603 to 0.03568, saving model to model\\best_wine.h5\n",
      "\n",
      "Epoch 00033: val_loss improved from 0.03568 to 0.03490, saving model to model\\best_wine.h5\n",
      "\n",
      "Epoch 00034: val_loss did not improve from 0.03490\n",
      "\n",
      "Epoch 00035: val_loss improved from 0.03490 to 0.03427, saving model to model\\best_wine.h5\n",
      "\n",
      "Epoch 00036: val_loss did not improve from 0.03427\n",
      "\n",
      "Epoch 00037: val_loss improved from 0.03427 to 0.03387, saving model to model\\best_wine.h5\n",
      "\n",
      "Epoch 00038: val_loss did not improve from 0.03387\n",
      "\n",
      "Epoch 00039: val_loss did not improve from 0.03387\n",
      "\n",
      "Epoch 00040: val_loss improved from 0.03387 to 0.03310, saving model to model\\best_wine.h5\n",
      "\n",
      "Epoch 00041: val_loss improved from 0.03310 to 0.03301, saving model to model\\best_wine.h5\n",
      "\n",
      "Epoch 00042: val_loss did not improve from 0.03301\n",
      "\n",
      "Epoch 00043: val_loss improved from 0.03301 to 0.03264, saving model to model\\best_wine.h5\n",
      "\n",
      "Epoch 00044: val_loss did not improve from 0.03264\n",
      "\n",
      "Epoch 00045: val_loss improved from 0.03264 to 0.03227, saving model to model\\best_wine.h5\n",
      "\n",
      "Epoch 00046: val_loss did not improve from 0.03227\n",
      "\n",
      "Epoch 00047: val_loss improved from 0.03227 to 0.03193, saving model to model\\best_wine.h5\n",
      "\n",
      "Epoch 00048: val_loss did not improve from 0.03193\n",
      "\n",
      "Epoch 00049: val_loss did not improve from 0.03193\n",
      "\n",
      "Epoch 00050: val_loss improved from 0.03193 to 0.03168, saving model to model\\best_wine.h5\n",
      "\n",
      "Epoch 00051: val_loss did not improve from 0.03168\n",
      "\n",
      "Epoch 00052: val_loss improved from 0.03168 to 0.03167, saving model to model\\best_wine.h5\n",
      "\n",
      "Epoch 00053: val_loss improved from 0.03167 to 0.03100, saving model to model\\best_wine.h5\n",
      "\n",
      "Epoch 00054: val_loss improved from 0.03100 to 0.03093, saving model to model\\best_wine.h5\n",
      "\n",
      "Epoch 00055: val_loss improved from 0.03093 to 0.03084, saving model to model\\best_wine.h5\n",
      "\n",
      "Epoch 00056: val_loss did not improve from 0.03084\n",
      "\n",
      "Epoch 00057: val_loss did not improve from 0.03084\n",
      "\n",
      "Epoch 00058: val_loss improved from 0.03084 to 0.03042, saving model to model\\best_wine.h5\n",
      "\n",
      "Epoch 00059: val_loss did not improve from 0.03042\n",
      "\n",
      "Epoch 00060: val_loss did not improve from 0.03042\n",
      "\n",
      "Epoch 00061: val_loss improved from 0.03042 to 0.03024, saving model to model\\best_wine.h5\n",
      "\n",
      "Epoch 00062: val_loss did not improve from 0.03024\n",
      "\n",
      "Epoch 00063: val_loss did not improve from 0.03024\n",
      "\n",
      "Epoch 00064: val_loss did not improve from 0.03024\n",
      "\n",
      "Epoch 00065: val_loss did not improve from 0.03024\n",
      "\n",
      "Epoch 00066: val_loss improved from 0.03024 to 0.03005, saving model to model\\best_wine.h5\n",
      "\n",
      "Epoch 00067: val_loss did not improve from 0.03005\n",
      "\n",
      "Epoch 00068: val_loss did not improve from 0.03005\n",
      "\n",
      "Epoch 00069: val_loss did not improve from 0.03005\n",
      "\n",
      "Epoch 00070: val_loss did not improve from 0.03005\n",
      "\n",
      "Epoch 00071: val_loss improved from 0.03005 to 0.02967, saving model to model\\best_wine.h5\n",
      "\n",
      "Epoch 00072: val_loss did not improve from 0.02967\n",
      "\n",
      "Epoch 00073: val_loss did not improve from 0.02967\n",
      "\n",
      "Epoch 00074: val_loss did not improve from 0.02967\n",
      "\n",
      "Epoch 00075: val_loss did not improve from 0.02967\n",
      "\n",
      "Epoch 00076: val_loss improved from 0.02967 to 0.02953, saving model to model\\best_wine.h5\n",
      "\n",
      "Epoch 00077: val_loss did not improve from 0.02953\n",
      "\n",
      "Epoch 00078: val_loss did not improve from 0.02953\n",
      "\n",
      "Epoch 00079: val_loss did not improve from 0.02953\n",
      "\n",
      "Epoch 00080: val_loss did not improve from 0.02953\n",
      "\n",
      "Epoch 00081: val_loss improved from 0.02953 to 0.02935, saving model to model\\best_wine.h5\n",
      "\n",
      "Epoch 00082: val_loss did not improve from 0.02935\n",
      "\n",
      "Epoch 00083: val_loss did not improve from 0.02935\n",
      "\n",
      "Epoch 00084: val_loss did not improve from 0.02935\n",
      "\n",
      "Epoch 00085: val_loss did not improve from 0.02935\n",
      "\n",
      "Epoch 00086: val_loss improved from 0.02935 to 0.02927, saving model to model\\best_wine.h5\n",
      "\n",
      "Epoch 00087: val_loss did not improve from 0.02927\n",
      "\n",
      "Epoch 00088: val_loss did not improve from 0.02927\n",
      "\n",
      "Epoch 00089: val_loss did not improve from 0.02927\n",
      "\n",
      "Epoch 00090: val_loss did not improve from 0.02927\n",
      "\n",
      "Epoch 00091: val_loss did not improve from 0.02927\n",
      "\n",
      "Epoch 00092: val_loss did not improve from 0.02927\n",
      "\n",
      "Epoch 00093: val_loss did not improve from 0.02927\n",
      "\n",
      "Epoch 00094: val_loss improved from 0.02927 to 0.02927, saving model to model\\best_wine.h5\n",
      "\n",
      "Epoch 00095: val_loss improved from 0.02927 to 0.02922, saving model to model\\best_wine.h5\n",
      "\n",
      "Epoch 00096: val_loss improved from 0.02922 to 0.02922, saving model to model\\best_wine.h5\n",
      "\n",
      "Epoch 00097: val_loss improved from 0.02922 to 0.02897, saving model to model\\best_wine.h5\n",
      "\n",
      "Epoch 00098: val_loss did not improve from 0.02897\n",
      "\n",
      "Epoch 00099: val_loss did not improve from 0.02897\n",
      "\n",
      "Epoch 00100: val_loss did not improve from 0.02897\n",
      "\n",
      "Epoch 00101: val_loss did not improve from 0.02897\n",
      "\n",
      "Epoch 00102: val_loss did not improve from 0.02897\n",
      "\n",
      "Epoch 00103: val_loss did not improve from 0.02897\n",
      "\n",
      "Epoch 00104: val_loss did not improve from 0.02897\n",
      "\n",
      "Epoch 00105: val_loss did not improve from 0.02897\n",
      "\n",
      "Epoch 00106: val_loss did not improve from 0.02897\n",
      "\n",
      "Epoch 00107: val_loss improved from 0.02897 to 0.02857, saving model to model\\best_wine.h5\n",
      "\n",
      "Epoch 00108: val_loss did not improve from 0.02857\n",
      "\n",
      "Epoch 00109: val_loss did not improve from 0.02857\n",
      "\n",
      "Epoch 00110: val_loss did not improve from 0.02857\n",
      "\n",
      "Epoch 00111: val_loss did not improve from 0.02857\n",
      "\n",
      "Epoch 00112: val_loss did not improve from 0.02857\n",
      "\n",
      "Epoch 00113: val_loss did not improve from 0.02857\n",
      "\n",
      "Epoch 00114: val_loss did not improve from 0.02857\n",
      "\n",
      "Epoch 00115: val_loss did not improve from 0.02857\n",
      "\n",
      "Epoch 00116: val_loss did not improve from 0.02857\n",
      "\n",
      "Epoch 00117: val_loss improved from 0.02857 to 0.02845, saving model to model\\best_wine.h5\n",
      "\n",
      "Epoch 00118: val_loss did not improve from 0.02845\n",
      "\n",
      "Epoch 00119: val_loss improved from 0.02845 to 0.02815, saving model to model\\best_wine.h5\n",
      "\n",
      "Epoch 00120: val_loss did not improve from 0.02815\n",
      "\n",
      "Epoch 00121: val_loss did not improve from 0.02815\n",
      "\n",
      "Epoch 00122: val_loss did not improve from 0.02815\n",
      "\n",
      "Epoch 00123: val_loss improved from 0.02815 to 0.02812, saving model to model\\best_wine.h5\n",
      "\n",
      "Epoch 00124: val_loss did not improve from 0.02812\n",
      "\n",
      "Epoch 00125: val_loss did not improve from 0.02812\n",
      "\n",
      "Epoch 00126: val_loss improved from 0.02812 to 0.02801, saving model to model\\best_wine.h5\n",
      "\n",
      "Epoch 00127: val_loss did not improve from 0.02801\n",
      "\n",
      "Epoch 00128: val_loss did not improve from 0.02801\n",
      "\n",
      "Epoch 00129: val_loss did not improve from 0.02801\n",
      "\n",
      "Epoch 00130: val_loss did not improve from 0.02801\n",
      "\n",
      "Epoch 00131: val_loss did not improve from 0.02801\n",
      "\n",
      "Epoch 00132: val_loss did not improve from 0.02801\n",
      "\n",
      "Epoch 00133: val_loss did not improve from 0.02801\n",
      "\n",
      "Epoch 00134: val_loss improved from 0.02801 to 0.02799, saving model to model\\best_wine.h5\n",
      "\n",
      "Epoch 00135: val_loss did not improve from 0.02799\n",
      "\n",
      "Epoch 00136: val_loss did not improve from 0.02799\n",
      "\n",
      "Epoch 00137: val_loss did not improve from 0.02799\n",
      "\n",
      "Epoch 00138: val_loss did not improve from 0.02799\n",
      "\n",
      "Epoch 00139: val_loss did not improve from 0.02799\n",
      "\n",
      "Epoch 00140: val_loss did not improve from 0.02799\n",
      "\n",
      "Epoch 00141: val_loss improved from 0.02799 to 0.02794, saving model to model\\best_wine.h5\n",
      "\n",
      "Epoch 00142: val_loss did not improve from 0.02794\n",
      "\n",
      "Epoch 00143: val_loss did not improve from 0.02794\n",
      "\n",
      "Epoch 00144: val_loss did not improve from 0.02794\n",
      "\n",
      "Epoch 00145: val_loss did not improve from 0.02794\n",
      "\n",
      "Epoch 00146: val_loss did not improve from 0.02794\n",
      "\n",
      "Epoch 00147: val_loss did not improve from 0.02794\n",
      "\n",
      "Epoch 00148: val_loss did not improve from 0.02794\n",
      "\n",
      "Epoch 00149: val_loss did not improve from 0.02794\n",
      "\n",
      "Epoch 00150: val_loss did not improve from 0.02794\n",
      "\n",
      "Epoch 00151: val_loss did not improve from 0.02794\n",
      "\n",
      "Epoch 00152: val_loss did not improve from 0.02794\n",
      "\n",
      "Epoch 00153: val_loss did not improve from 0.02794\n",
      "\n",
      "Epoch 00154: val_loss did not improve from 0.02794\n",
      "\n",
      "Epoch 00155: val_loss did not improve from 0.02794\n",
      "\n",
      "Epoch 00156: val_loss did not improve from 0.02794\n",
      "\n",
      "Epoch 00157: val_loss did not improve from 0.02794\n",
      "\n",
      "Epoch 00158: val_loss did not improve from 0.02794\n",
      "\n",
      "Epoch 00159: val_loss did not improve from 0.02794\n",
      "\n",
      "Epoch 00160: val_loss did not improve from 0.02794\n",
      "\n",
      "Epoch 00161: val_loss did not improve from 0.02794\n"
     ]
    }
   ],
   "source": [
    "history = model.fit(\n",
    "    X_train, y_train, validation_split=0.2,\n",
    "    epochs=200, batch_size=200, verbose=0,\n",
    "    callbacks=[checkpointer, early_stopping]\n",
    ")"
   ]
  },
  {
   "cell_type": "markdown",
   "metadata": {},
   "source": [
    "### 평가는 베스트 모델로 해야 함"
   ]
  },
  {
   "cell_type": "code",
   "execution_count": 12,
   "metadata": {},
   "outputs": [],
   "source": [
    "from tensorflow.keras.models import load_model\n",
    "best_model = load_model('model/best_wine.h5')"
   ]
  },
  {
   "cell_type": "code",
   "execution_count": 13,
   "metadata": {},
   "outputs": [
    {
     "name": "stdout",
     "output_type": "stream",
     "text": [
      "51/51 [==============================] - 0s 538us/step - loss: 0.0270 - accuracy: 0.9920\n"
     ]
    },
    {
     "data": {
      "text/plain": [
       "[0.02697831206023693, 0.9919999837875366]"
      ]
     },
     "execution_count": 13,
     "metadata": {},
     "output_type": "execute_result"
    }
   ],
   "source": [
    "best_model.evaluate(X_test, y_test)"
   ]
  },
  {
   "cell_type": "markdown",
   "metadata": {},
   "source": [
    "### 훈련과정 시각화"
   ]
  },
  {
   "cell_type": "code",
   "execution_count": 14,
   "metadata": {},
   "outputs": [],
   "source": [
    "import matplotlib.pyplot as plt\n",
    "%matplotlib inline"
   ]
  },
  {
   "cell_type": "code",
   "execution_count": 15,
   "metadata": {},
   "outputs": [],
   "source": [
    "y_acc = history.history['accuracy']\n",
    "y_vacc = history.history['val_accuracy']\n",
    "y_loss = history.history['loss']\n",
    "y_vloss = history.history['val_loss']\n",
    "x_len = np.arange(len(y_acc))"
   ]
  },
  {
   "cell_type": "code",
   "execution_count": 16,
   "metadata": {},
   "outputs": [
    {
     "data": {
      "image/png": "[encoded data removed]",
      "text/plain": [
       "<Figure size 864x576 with 1 Axes>"
      ]
     },
     "metadata": {
      "needs_background": "light"
     },
     "output_type": "display_data"
    }
   ],
   "source": [
    "plt.figure(figsize=(12,8))\n",
    "plt.plot(x_len, y_acc, 'bo-', markersize=2, label='accuracy')\n",
    "plt.plot(x_len, y_vacc, 'mo-', markersize=2, label='val_accuracy')\n",
    "plt.plot(x_len, y_vloss, 'ro-', markersize=2, label='val_loss')\n",
    "plt.plot(x_len, y_loss, 'go-', markersize=2, label='loss')\n",
    "plt.legend()\n",
    "plt.show()"
   ]
  }
 ],
 "metadata": {
  "interpreter": {
   "hash": "8c1eae21719a0790335dcb83aad72b63b602cfe5cdb2bda0f60bc11d4f154e4b"
  },
  "kernelspec": {
   "display_name": "Python 3.8.5 64-bit ('base': conda)",
   "name": "python3"
  },
  "language_info": {
   "codemirror_mode": {
    "name": "ipython",
    "version": 3
   },
   "file_extension": ".py",
   "mimetype": "text/x-python",
   "name": "python",
   "nbconvert_exporter": "python",
   "pygments_lexer": "ipython3",
   "version": "3.8.5"
  },
  "orig_nbformat": 4
 },
 "nbformat": 4,
 "nbformat_minor": 2
}